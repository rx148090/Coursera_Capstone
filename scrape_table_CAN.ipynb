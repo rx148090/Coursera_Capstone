{
 "cells": [
  {
   "cell_type": "markdown",
   "metadata": {},
   "source": [
    "<h1> Scrape a table of Postal Codes of Cananda from Wikipeida</h1>"
   ]
  },
  {
   "cell_type": "markdown",
   "metadata": {},
   "source": [
    "Import all libaraies"
   ]
  },
  {
   "cell_type": "code",
   "execution_count": 1,
   "metadata": {},
   "outputs": [],
   "source": [
    "import requests\n",
    "from bs4 import BeautifulSoup\n",
    "import numpy as np\n",
    "import pandas as pd"
   ]
  },
  {
   "cell_type": "markdown",
   "metadata": {},
   "source": [
    "<p>The url of the Wikipedia page is <a href=\"https://en.wikipedia.org/wiki/List_of_postal_codes_of_Canada:_M\">https://en.wikipedia.org/wiki/List_of_postal_codes_of_Canada:_M</a><br>\n",
    "As Wikipedia is subject to modifications, the table may be restructued thus the code needs to be modified.\n",
    "</p>"
   ]
  },
  {
   "cell_type": "code",
   "execution_count": 2,
   "metadata": {},
   "outputs": [],
   "source": [
    "#create the link string\n",
    "url = 'https://en.wikipedia.org/wiki/List_of_postal_codes_of_Canada:_M'\n",
    "\n",
    "#request call to the url\n",
    "source = requests.get(url).text\n",
    "\n",
    "#create a BeautifulSoup object with its built-in parser\n",
    "soup = BeautifulSoup(source, 'html.parser')\n",
    "\n",
    "#get all content inclduing html markups of the table\n",
    "table = soup.find('div', class_='mw-content-ltr').find('table')"
   ]
  },
  {
   "cell_type": "code",
   "execution_count": 4,
   "metadata": {},
   "outputs": [],
   "source": [
    "#create three empty lists to store table contents\n",
    "pcode=[]\n",
    "boro=[] \n",
    "neighbor=[]"
   ]
  },
  {
   "cell_type": "markdown",
   "metadata": {},
   "source": [
    "<p>Scan through the table and store content into separate lists defined in the previous cell. \n",
    "</p>"
   ]
  },
  {
   "cell_type": "code",
   "execution_count": 5,
   "metadata": {},
   "outputs": [],
   "source": [
    "#outer loop iterates all table rows(tr) and inner loop iterates inside each row\n",
    "for tr in table.find_all('tr'):\n",
    "    for td in tr.find_all('td'):\n",
    "        pcode.append(td.b.text)\n",
    "        try:\n",
    "            #the <span> contains borogh and neighboor information in format of borogh(neighboorhood1/ neighboorhood2/...)\n",
    "            tmp = td.span.text.split('(')\n",
    "            b = tmp[0]\n",
    "            n = tmp[1].replace(')','').replace(' / ',', ')\n",
    "            boro.append(b)\n",
    "            neighbor.append(n)\n",
    "        except Exception as e:\n",
    "            #append NaN if no information found\n",
    "            boro.append(np.nan)\n",
    "            neighbor.append(np.nan)"
   ]
  },
  {
   "cell_type": "markdown",
   "metadata": {},
   "source": [
    "<p>Convert lists to one dataframe and export a csv file</p>"
   ]
  },
  {
   "cell_type": "code",
   "execution_count": 6,
   "metadata": {},
   "outputs": [],
   "source": [
    "#Create dataframe\n",
    "df = pd.DataFrame()\n",
    "df['PostalCode'] = pcode\n",
    "df['Borough'] = boro\n",
    "df['Neighborhood'] = neighbor\n",
    "\n",
    "#Drop rows with NaN values\n",
    "df.dropna(axis=0, inplace=True)\n",
    "\n",
    "#reset index and delete older index column\n",
    "df.reset_index(inplace=True)\n",
    "df.drop(['index'], axis=1, inplace=True)"
   ]
  },
  {
   "cell_type": "code",
   "execution_count": 7,
   "metadata": {},
   "outputs": [
    {
     "data": {
      "text/plain": [
       "(102, 3)"
      ]
     },
     "execution_count": 7,
     "metadata": {},
     "output_type": "execute_result"
    }
   ],
   "source": [
    "#export csv and check the size of the dataframe\n",
    "df.to_csv('postal_code_CAN.csv')\n",
    "df.shape"
   ]
  },
  {
   "cell_type": "code",
   "execution_count": null,
   "metadata": {},
   "outputs": [],
   "source": []
  }
 ],
 "metadata": {
  "kernelspec": {
   "display_name": "Python 3",
   "language": "python",
   "name": "python3"
  },
  "language_info": {
   "codemirror_mode": {
    "name": "ipython",
    "version": 3
   },
   "file_extension": ".py",
   "mimetype": "text/x-python",
   "name": "python",
   "nbconvert_exporter": "python",
   "pygments_lexer": "ipython3",
   "version": "3.7.6"
  }
 },
 "nbformat": 4,
 "nbformat_minor": 4
}
